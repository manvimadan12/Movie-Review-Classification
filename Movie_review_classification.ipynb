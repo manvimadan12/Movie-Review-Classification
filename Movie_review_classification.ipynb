{
 "cells": [
  {
   "cell_type": "code",
   "execution_count": 2,
   "metadata": {},
   "outputs": [
    {
     "name": "stderr",
     "output_type": "stream",
     "text": [
      "Using TensorFlow backend.\n",
      "/usr/local/lib/python3.7/dist-packages/tensorflow/python/framework/dtypes.py:516: FutureWarning: Passing (type, 1) or '1type' as a synonym of type is deprecated; in a future version of numpy, it will be understood as (type, (1,)) / '(1,)type'.\n",
      "  _np_qint8 = np.dtype([(\"qint8\", np.int8, 1)])\n",
      "/usr/local/lib/python3.7/dist-packages/tensorflow/python/framework/dtypes.py:517: FutureWarning: Passing (type, 1) or '1type' as a synonym of type is deprecated; in a future version of numpy, it will be understood as (type, (1,)) / '(1,)type'.\n",
      "  _np_quint8 = np.dtype([(\"quint8\", np.uint8, 1)])\n",
      "/usr/local/lib/python3.7/dist-packages/tensorflow/python/framework/dtypes.py:518: FutureWarning: Passing (type, 1) or '1type' as a synonym of type is deprecated; in a future version of numpy, it will be understood as (type, (1,)) / '(1,)type'.\n",
      "  _np_qint16 = np.dtype([(\"qint16\", np.int16, 1)])\n",
      "/usr/local/lib/python3.7/dist-packages/tensorflow/python/framework/dtypes.py:519: FutureWarning: Passing (type, 1) or '1type' as a synonym of type is deprecated; in a future version of numpy, it will be understood as (type, (1,)) / '(1,)type'.\n",
      "  _np_quint16 = np.dtype([(\"quint16\", np.uint16, 1)])\n",
      "/usr/local/lib/python3.7/dist-packages/tensorflow/python/framework/dtypes.py:520: FutureWarning: Passing (type, 1) or '1type' as a synonym of type is deprecated; in a future version of numpy, it will be understood as (type, (1,)) / '(1,)type'.\n",
      "  _np_qint32 = np.dtype([(\"qint32\", np.int32, 1)])\n",
      "/usr/local/lib/python3.7/dist-packages/tensorflow/python/framework/dtypes.py:525: FutureWarning: Passing (type, 1) or '1type' as a synonym of type is deprecated; in a future version of numpy, it will be understood as (type, (1,)) / '(1,)type'.\n",
      "  np_resource = np.dtype([(\"resource\", np.ubyte, 1)])\n",
      "/usr/local/lib/python3.7/dist-packages/tensorboard/compat/tensorflow_stub/dtypes.py:541: FutureWarning: Passing (type, 1) or '1type' as a synonym of type is deprecated; in a future version of numpy, it will be understood as (type, (1,)) / '(1,)type'.\n",
      "  _np_qint8 = np.dtype([(\"qint8\", np.int8, 1)])\n",
      "/usr/local/lib/python3.7/dist-packages/tensorboard/compat/tensorflow_stub/dtypes.py:542: FutureWarning: Passing (type, 1) or '1type' as a synonym of type is deprecated; in a future version of numpy, it will be understood as (type, (1,)) / '(1,)type'.\n",
      "  _np_quint8 = np.dtype([(\"quint8\", np.uint8, 1)])\n",
      "/usr/local/lib/python3.7/dist-packages/tensorboard/compat/tensorflow_stub/dtypes.py:543: FutureWarning: Passing (type, 1) or '1type' as a synonym of type is deprecated; in a future version of numpy, it will be understood as (type, (1,)) / '(1,)type'.\n",
      "  _np_qint16 = np.dtype([(\"qint16\", np.int16, 1)])\n",
      "/usr/local/lib/python3.7/dist-packages/tensorboard/compat/tensorflow_stub/dtypes.py:544: FutureWarning: Passing (type, 1) or '1type' as a synonym of type is deprecated; in a future version of numpy, it will be understood as (type, (1,)) / '(1,)type'.\n",
      "  _np_quint16 = np.dtype([(\"quint16\", np.uint16, 1)])\n",
      "/usr/local/lib/python3.7/dist-packages/tensorboard/compat/tensorflow_stub/dtypes.py:545: FutureWarning: Passing (type, 1) or '1type' as a synonym of type is deprecated; in a future version of numpy, it will be understood as (type, (1,)) / '(1,)type'.\n",
      "  _np_qint32 = np.dtype([(\"qint32\", np.int32, 1)])\n",
      "/usr/local/lib/python3.7/dist-packages/tensorboard/compat/tensorflow_stub/dtypes.py:550: FutureWarning: Passing (type, 1) or '1type' as a synonym of type is deprecated; in a future version of numpy, it will be understood as (type, (1,)) / '(1,)type'.\n",
      "  np_resource = np.dtype([(\"resource\", np.ubyte, 1)])\n"
     ]
    }
   ],
   "source": [
    "from keras.datasets import imdb\n",
    "\n",
    "(train_data, train_labels), (test_data, test_labels) = imdb.load_data(num_words=10000)"
   ]
  },
  {
   "cell_type": "code",
   "execution_count": 3,
   "metadata": {},
   "outputs": [],
   "source": [
    "# word_index is a dictionary mapping words to an integer index\n",
    "word_index = imdb.get_word_index()\n",
    "# We reverse it, mapping integer indices to words\n",
    "reverse_word_index = dict([(value, key) for (key, value) in word_index.items()])\n",
    "# decoding the review\n",
    "decoded_review = ' '.join([reverse_word_index.get(i - 3, '?') for i in train_data[0]])"
   ]
  },
  {
   "cell_type": "code",
   "execution_count": 4,
   "metadata": {},
   "outputs": [
    {
     "data": {
      "text/plain": [
       "\"? this film was just brilliant casting location scenery story direction everyone's really suited the part they played and you could just imagine being there robert ? is an amazing actor and now the same being director ? father came from the same scottish island as myself so i loved the fact there was a real connection with this film the witty remarks throughout the film were great it was just brilliant so much that i bought the film as soon as it was released for ? and would recommend it to everyone to watch and the fly fishing was amazing really cried at the end it was so sad and you know what they say if you cry at a film it must have been good and this definitely was also ? to the two little boy's that played the ? of norman and paul they were just brilliant children are often left out of the ? list i think because the stars that play them all grown up are such a big profile for the whole film but these children are amazing and should be praised for what they have done don't you think the whole story was so lovely because it was true and was someone's life after all that was shared with us all\""
      ]
     },
     "execution_count": 4,
     "metadata": {},
     "output_type": "execute_result"
    }
   ],
   "source": [
    "decoded_review"
   ]
  },
  {
   "cell_type": "code",
   "execution_count": 5,
   "metadata": {},
   "outputs": [],
   "source": [
    "import numpy as np\n",
    "\n",
    "def vectorize_sequences(sequences, dimension=10000):\n",
    "    # Create an all-zero matrix of shape (len(sequences), dimension)\n",
    "    results = np.zeros((len(sequences), dimension))\n",
    "    for i, sequence in enumerate(sequences):\n",
    "        results[i, sequence] = 1.  # set specific indices of results[i] to 1s\n",
    "    return results\n",
    "\n",
    "# vectorized training data\n",
    "x_train = vectorize_sequences(train_data)\n",
    "# vectorized test data\n",
    "x_test = vectorize_sequences(test_data)"
   ]
  },
  {
   "cell_type": "code",
   "execution_count": 6,
   "metadata": {},
   "outputs": [
    {
     "data": {
      "text/plain": [
       "array([0., 1., 1., ..., 0., 0., 0.])"
      ]
     },
     "execution_count": 6,
     "metadata": {},
     "output_type": "execute_result"
    }
   ],
   "source": [
    "x_train[0]"
   ]
  },
  {
   "cell_type": "code",
   "execution_count": 7,
   "metadata": {},
   "outputs": [],
   "source": [
    "# vectorized labels\n",
    "y_train = np.asarray(train_labels).astype('float32')\n",
    "y_test = np.asarray(test_labels).astype('float32')"
   ]
  },
  {
   "cell_type": "code",
   "execution_count": 8,
   "metadata": {},
   "outputs": [],
   "source": [
    "from keras import models\n",
    "from keras import layers\n",
    "\n",
    "model = models.Sequential()\n",
    "model.add(layers.Dense(16, activation='relu', input_shape=(10000,)))\n",
    "model.add(layers.Dense(16, activation='relu'))\n",
    "model.add(layers.Dense(1, activation='sigmoid'))"
   ]
  },
  {
   "cell_type": "code",
   "execution_count": 9,
   "metadata": {},
   "outputs": [
    {
     "name": "stdout",
     "output_type": "stream",
     "text": [
      "WARNING:tensorflow:From /usr/local/lib/python3.7/dist-packages/tensorflow/python/ops/nn_impl.py:180: add_dispatch_support.<locals>.wrapper (from tensorflow.python.ops.array_ops) is deprecated and will be removed in a future version.\n",
      "Instructions for updating:\n",
      "Use tf.where in 2.0, which has the same broadcast rule as np.where\n"
     ]
    }
   ],
   "source": [
    "model.compile(optimizer='rmsprop',\n",
    "              loss='binary_crossentropy',\n",
    "              metrics=['accuracy'])\n"
   ]
  },
  {
   "cell_type": "code",
   "execution_count": 10,
   "metadata": {},
   "outputs": [],
   "source": [
    "from keras import optimizers\n",
    "\n",
    "model.compile(optimizer=optimizers.RMSprop(lr=0.001),\n",
    "              loss='binary_crossentropy',\n",
    "              metrics=['accuracy'])"
   ]
  },
  {
   "cell_type": "code",
   "execution_count": 11,
   "metadata": {},
   "outputs": [],
   "source": [
    "from keras import losses\n",
    "from keras import metrics\n",
    "\n",
    "model.compile(optimizer=optimizers.RMSprop(lr=0.001),\n",
    "              loss=losses.binary_crossentropy,\n",
    "              metrics=[metrics.binary_accuracy])"
   ]
  },
  {
   "cell_type": "code",
   "execution_count": 12,
   "metadata": {},
   "outputs": [],
   "source": [
    "\n",
    "x_val = x_train[:10000]\n",
    "partial_x_train = x_train[10000:]\n",
    "\n",
    "y_val = y_train[:10000]\n",
    "partial_y_train = y_train[10000:]"
   ]
  },
  {
   "cell_type": "code",
   "execution_count": 14,
   "metadata": {},
   "outputs": [
    {
     "name": "stdout",
     "output_type": "stream",
     "text": [
      "Train on 15000 samples, validate on 10000 samples\n",
      "Epoch 1/25\n",
      "15000/15000 [==============================] - 1s 42us/step - loss: 0.0062 - binary_accuracy: 0.9987 - val_loss: 0.7267 - val_binary_accuracy: 0.8653\n",
      "Epoch 2/25\n",
      "15000/15000 [==============================] - 1s 42us/step - loss: 0.0019 - binary_accuracy: 0.9999 - val_loss: 0.7538 - val_binary_accuracy: 0.8638\n",
      "Epoch 3/25\n",
      "15000/15000 [==============================] - 1s 40us/step - loss: 0.0029 - binary_accuracy: 0.9994 - val_loss: 0.8823 - val_binary_accuracy: 0.8556\n",
      "Epoch 4/25\n",
      "15000/15000 [==============================] - 1s 39us/step - loss: 0.0013 - binary_accuracy: 1.0000 - val_loss: 0.8258 - val_binary_accuracy: 0.8621\n",
      "Epoch 5/25\n",
      "15000/15000 [==============================] - 1s 38us/step - loss: 9.0534e-04 - binary_accuracy: 1.0000 - val_loss: 0.8542 - val_binary_accuracy: 0.8622\n",
      "Epoch 6/25\n",
      "15000/15000 [==============================] - 1s 39us/step - loss: 0.0021 - binary_accuracy: 0.9996 - val_loss: 0.9149 - val_binary_accuracy: 0.8601\n",
      "Epoch 7/25\n",
      "15000/15000 [==============================] - 1s 40us/step - loss: 4.7001e-04 - binary_accuracy: 1.0000 - val_loss: 0.9265 - val_binary_accuracy: 0.8608\n",
      "Epoch 8/25\n",
      "15000/15000 [==============================] - 1s 40us/step - loss: 3.7223e-04 - binary_accuracy: 1.0000 - val_loss: 0.9715 - val_binary_accuracy: 0.8610\n",
      "Epoch 9/25\n",
      "15000/15000 [==============================] - 1s 41us/step - loss: 0.0065 - binary_accuracy: 0.9987 - val_loss: 1.0111 - val_binary_accuracy: 0.8608\n",
      "Epoch 10/25\n",
      "15000/15000 [==============================] - 1s 43us/step - loss: 2.1850e-04 - binary_accuracy: 1.0000 - val_loss: 1.0219 - val_binary_accuracy: 0.8613\n",
      "Epoch 11/25\n",
      "15000/15000 [==============================] - 1s 42us/step - loss: 1.8050e-04 - binary_accuracy: 1.0000 - val_loss: 1.0409 - val_binary_accuracy: 0.8608\n",
      "Epoch 12/25\n",
      "15000/15000 [==============================] - 1s 42us/step - loss: 1.5105e-04 - binary_accuracy: 1.0000 - val_loss: 1.1418 - val_binary_accuracy: 0.8565\n",
      "Epoch 13/25\n",
      "15000/15000 [==============================] - 1s 42us/step - loss: 0.0033 - binary_accuracy: 0.9991 - val_loss: 1.0949 - val_binary_accuracy: 0.8602\n",
      "Epoch 14/25\n",
      "15000/15000 [==============================] - 1s 41us/step - loss: 1.0414e-04 - binary_accuracy: 1.0000 - val_loss: 1.1098 - val_binary_accuracy: 0.8594\n",
      "Epoch 15/25\n",
      "15000/15000 [==============================] - 1s 41us/step - loss: 8.8660e-05 - binary_accuracy: 1.0000 - val_loss: 1.1420 - val_binary_accuracy: 0.8585\n",
      "Epoch 16/25\n",
      "15000/15000 [==============================] - 1s 42us/step - loss: 0.0019 - binary_accuracy: 0.9995 - val_loss: 1.1874 - val_binary_accuracy: 0.8589\n",
      "Epoch 17/25\n",
      "15000/15000 [==============================] - 1s 42us/step - loss: 5.3951e-05 - binary_accuracy: 1.0000 - val_loss: 1.1990 - val_binary_accuracy: 0.8595\n",
      "Epoch 18/25\n",
      "15000/15000 [==============================] - 1s 42us/step - loss: 4.5238e-05 - binary_accuracy: 1.0000 - val_loss: 1.2145 - val_binary_accuracy: 0.8596\n",
      "Epoch 19/25\n",
      "15000/15000 [==============================] - 1s 41us/step - loss: 3.8245e-05 - binary_accuracy: 1.0000 - val_loss: 1.2456 - val_binary_accuracy: 0.8595\n",
      "Epoch 20/25\n",
      "15000/15000 [==============================] - 1s 40us/step - loss: 2.7391e-05 - binary_accuracy: 1.0000 - val_loss: 1.3455 - val_binary_accuracy: 0.8566\n",
      "Epoch 21/25\n",
      "15000/15000 [==============================] - 1s 41us/step - loss: 0.0017 - binary_accuracy: 0.9995 - val_loss: 1.3392 - val_binary_accuracy: 0.8597\n",
      "Epoch 22/25\n",
      "15000/15000 [==============================] - 1s 41us/step - loss: 1.8631e-05 - binary_accuracy: 1.0000 - val_loss: 1.3478 - val_binary_accuracy: 0.8597\n",
      "Epoch 23/25\n",
      "15000/15000 [==============================] - 1s 42us/step - loss: 1.5658e-05 - binary_accuracy: 1.0000 - val_loss: 1.3608 - val_binary_accuracy: 0.8603\n",
      "Epoch 24/25\n",
      "15000/15000 [==============================] - 1s 42us/step - loss: 1.2813e-05 - binary_accuracy: 1.0000 - val_loss: 1.4048 - val_binary_accuracy: 0.8583\n",
      "Epoch 25/25\n",
      "15000/15000 [==============================] - 1s 42us/step - loss: 3.7261e-04 - binary_accuracy: 0.9999 - val_loss: 1.4519 - val_binary_accuracy: 0.8589\n"
     ]
    }
   ],
   "source": [
    "history = model.fit(partial_x_train,\n",
    "                    partial_y_train,\n",
    "                    epochs=25,\n",
    "                    batch_size=512,\n",
    "                    validation_data=(x_val, y_val))"
   ]
  },
  {
   "cell_type": "code",
   "execution_count": 15,
   "metadata": {},
   "outputs": [
    {
     "data": {
      "text/plain": [
       "dict_keys(['val_loss', 'val_binary_accuracy', 'loss', 'binary_accuracy'])"
      ]
     },
     "execution_count": 15,
     "metadata": {},
     "output_type": "execute_result"
    }
   ],
   "source": [
    "history_dict = history.history\n",
    "history_dict.keys()"
   ]
  },
  {
   "cell_type": "code",
   "execution_count": 17,
   "metadata": {},
   "outputs": [
    {
     "data": {
      "text/plain": [
       "array([[7.9870224e-06],\n",
       "       [1.0000000e+00],\n",
       "       [4.5956609e-01],\n",
       "       ...,\n",
       "       [9.4473362e-06],\n",
       "       [4.1353703e-03],\n",
       "       [9.8159826e-01]], dtype=float32)"
      ]
     },
     "execution_count": 17,
     "metadata": {},
     "output_type": "execute_result"
    }
   ],
   "source": [
    "model.predict(x_test)"
   ]
  },
  {
   "cell_type": "code",
   "execution_count": null,
   "metadata": {},
   "outputs": [],
   "source": []
  }
 ],
 "metadata": {
  "kernelspec": {
   "display_name": "Python 3",
   "language": "python",
   "name": "python3"
  },
  "language_info": {
   "codemirror_mode": {
    "name": "ipython",
    "version": 3
   },
   "file_extension": ".py",
   "mimetype": "text/x-python",
   "name": "python",
   "nbconvert_exporter": "python",
   "pygments_lexer": "ipython3",
   "version": "3.7.5"
  }
 },
 "nbformat": 4,
 "nbformat_minor": 2
}
